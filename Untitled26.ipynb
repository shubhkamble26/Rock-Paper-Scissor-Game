{
  "nbformat": 4,
  "nbformat_minor": 0,
  "metadata": {
    "colab": {
      "name": "Untitled26.ipynb",
      "provenance": [],
      "authorship_tag": "ABX9TyNtzD5icpDYsLqTfMxGotxN",
      "include_colab_link": true
    },
    "kernelspec": {
      "name": "python3",
      "display_name": "Python 3"
    }
  },
  "cells": [
    {
      "cell_type": "markdown",
      "metadata": {
        "id": "view-in-github",
        "colab_type": "text"
      },
      "source": [
        "<a href=\"https://colab.research.google.com/github/shubhkamble26/Rock-Paper-Scissor-Game/blob/master/Untitled26.ipynb\" target=\"_parent\"><img src=\"https://colab.research.google.com/assets/colab-badge.svg\" alt=\"Open In Colab\"/></a>"
      ]
    },
    {
      "cell_type": "code",
      "metadata": {
        "id": "2PRxpAh1H7yH",
        "colab_type": "code",
        "colab": {}
      },
      "source": [
        "from random import randint\n",
        "lst=[\"Rock\",\"Paper\",\"Scissors\"]\n",
        "computer=lst[randint(0,2)]\n",
        "player=False\n",
        "\n",
        "while player==False:\n",
        "  player=input(\"Rock,Paper,Scissor?\")\n",
        "\n",
        "  if player==computer:\n",
        "    print(\"Tie! , Play again to win...\")\n",
        "\n",
        "  elif (player==\"Rock\"):\n",
        "    if (computer==\"Paper\"):\n",
        "      print(player,\"You Lose!\",computer,\"covers\",player)\n",
        "    else:\n",
        "      print(player,\"You Win!\",player,\"destroy\",computer)\n",
        "\n",
        "  elif (player==\"Paper\"):\n",
        "      if (computer==\"Rock\"):\n",
        "        print(player,\"You Win!\",player,\"covers\",computer)\n",
        "      else:\n",
        "        print(player,\"You Lose!\",computer,\"cut\",player)\n",
        "\n",
        "  elif (player==\"Scissor\"):\n",
        "      if (computer==\"Paper\"):\n",
        "        print(player,\"You Win!\",player,\"cut\",computer)\n",
        "      else:\n",
        "        print(player,\"You Lose!\",computer,\"destroy\",player)\n",
        "\n",
        "  else:\n",
        "        print(\"That's not valid play! Check your spelling...\")\n",
        "\n",
        "\n",
        "  player=False\n",
        "  computer=lst[randint(0,2)]"
      ],
      "execution_count": null,
      "outputs": []
    },
    {
      "cell_type": "code",
      "metadata": {
        "id": "HfuMgfqdNEn0",
        "colab_type": "code",
        "colab": {}
      },
      "source": [
        ""
      ],
      "execution_count": null,
      "outputs": []
    }
  ]
}